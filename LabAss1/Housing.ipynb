{
  "nbformat": 4,
  "nbformat_minor": 0,
  "metadata": {
    "colab": {
      "provenance": [],
      "gpuType": "T4"
    },
    "kernelspec": {
      "name": "python3",
      "display_name": "Python 3"
    },
    "language_info": {
      "name": "python"
    },
    "accelerator": "GPU"
  },
  "cells": [
    {
      "cell_type": "code",
      "execution_count": 44,
      "metadata": {
        "colab": {
          "base_uri": "https://localhost:8080/"
        },
        "id": "aR5PT547PF2l",
        "outputId": "c2a469a4-5683-4ac6-8ca6-a6e3a32fd153"
      },
      "outputs": [
        {
          "output_type": "stream",
          "name": "stdout",
          "text": [
            "hiii\n"
          ]
        }
      ],
      "source": [
        "print(\"hiii\")"
      ]
    },
    {
      "cell_type": "code",
      "source": [
        "import pandas as pd\n",
        "import numpy as np"
      ],
      "metadata": {
        "id": "rKwDzgdkPeV-"
      },
      "execution_count": 45,
      "outputs": []
    },
    {
      "cell_type": "code",
      "source": [
        "df = pd.read_csv(\"Housing.csv\")"
      ],
      "metadata": {
        "id": "A1ngGjANPwAV"
      },
      "execution_count": 46,
      "outputs": []
    },
    {
      "cell_type": "code",
      "source": [
        "df.head()"
      ],
      "metadata": {
        "colab": {
          "base_uri": "https://localhost:8080/",
          "height": 204
        },
        "id": "Bh7MQScBQ7_G",
        "outputId": "b928da46-9047-4b07-faf0-07b23e4e0b08"
      },
      "execution_count": 47,
      "outputs": [
        {
          "output_type": "execute_result",
          "data": {
            "text/plain": [
              "      price  area  bedrooms  bathrooms  stories mainroad guestroom basement  \\\n",
              "0  13300000  7420         4          2        3      yes        no       no   \n",
              "1  12250000  8960         4          4        4      yes        no       no   \n",
              "2  12250000  9960         3          2        2      yes        no      yes   \n",
              "3  12215000  7500         4          2        2      yes        no      yes   \n",
              "4  11410000  7420         4          1        2      yes       yes      yes   \n",
              "\n",
              "  hotwaterheating airconditioning  parking prefarea furnishingstatus  \n",
              "0              no             yes        2      yes        furnished  \n",
              "1              no             yes        3       no        furnished  \n",
              "2              no              no        2      yes   semi-furnished  \n",
              "3              no             yes        3      yes        furnished  \n",
              "4              no             yes        2       no        furnished  "
            ],
            "text/html": [
              "\n",
              "  <div id=\"df-00eeee27-76ad-4cc7-a440-f6b4c814c2ab\" class=\"colab-df-container\">\n",
              "    <div>\n",
              "<style scoped>\n",
              "    .dataframe tbody tr th:only-of-type {\n",
              "        vertical-align: middle;\n",
              "    }\n",
              "\n",
              "    .dataframe tbody tr th {\n",
              "        vertical-align: top;\n",
              "    }\n",
              "\n",
              "    .dataframe thead th {\n",
              "        text-align: right;\n",
              "    }\n",
              "</style>\n",
              "<table border=\"1\" class=\"dataframe\">\n",
              "  <thead>\n",
              "    <tr style=\"text-align: right;\">\n",
              "      <th></th>\n",
              "      <th>price</th>\n",
              "      <th>area</th>\n",
              "      <th>bedrooms</th>\n",
              "      <th>bathrooms</th>\n",
              "      <th>stories</th>\n",
              "      <th>mainroad</th>\n",
              "      <th>guestroom</th>\n",
              "      <th>basement</th>\n",
              "      <th>hotwaterheating</th>\n",
              "      <th>airconditioning</th>\n",
              "      <th>parking</th>\n",
              "      <th>prefarea</th>\n",
              "      <th>furnishingstatus</th>\n",
              "    </tr>\n",
              "  </thead>\n",
              "  <tbody>\n",
              "    <tr>\n",
              "      <th>0</th>\n",
              "      <td>13300000</td>\n",
              "      <td>7420</td>\n",
              "      <td>4</td>\n",
              "      <td>2</td>\n",
              "      <td>3</td>\n",
              "      <td>yes</td>\n",
              "      <td>no</td>\n",
              "      <td>no</td>\n",
              "      <td>no</td>\n",
              "      <td>yes</td>\n",
              "      <td>2</td>\n",
              "      <td>yes</td>\n",
              "      <td>furnished</td>\n",
              "    </tr>\n",
              "    <tr>\n",
              "      <th>1</th>\n",
              "      <td>12250000</td>\n",
              "      <td>8960</td>\n",
              "      <td>4</td>\n",
              "      <td>4</td>\n",
              "      <td>4</td>\n",
              "      <td>yes</td>\n",
              "      <td>no</td>\n",
              "      <td>no</td>\n",
              "      <td>no</td>\n",
              "      <td>yes</td>\n",
              "      <td>3</td>\n",
              "      <td>no</td>\n",
              "      <td>furnished</td>\n",
              "    </tr>\n",
              "    <tr>\n",
              "      <th>2</th>\n",
              "      <td>12250000</td>\n",
              "      <td>9960</td>\n",
              "      <td>3</td>\n",
              "      <td>2</td>\n",
              "      <td>2</td>\n",
              "      <td>yes</td>\n",
              "      <td>no</td>\n",
              "      <td>yes</td>\n",
              "      <td>no</td>\n",
              "      <td>no</td>\n",
              "      <td>2</td>\n",
              "      <td>yes</td>\n",
              "      <td>semi-furnished</td>\n",
              "    </tr>\n",
              "    <tr>\n",
              "      <th>3</th>\n",
              "      <td>12215000</td>\n",
              "      <td>7500</td>\n",
              "      <td>4</td>\n",
              "      <td>2</td>\n",
              "      <td>2</td>\n",
              "      <td>yes</td>\n",
              "      <td>no</td>\n",
              "      <td>yes</td>\n",
              "      <td>no</td>\n",
              "      <td>yes</td>\n",
              "      <td>3</td>\n",
              "      <td>yes</td>\n",
              "      <td>furnished</td>\n",
              "    </tr>\n",
              "    <tr>\n",
              "      <th>4</th>\n",
              "      <td>11410000</td>\n",
              "      <td>7420</td>\n",
              "      <td>4</td>\n",
              "      <td>1</td>\n",
              "      <td>2</td>\n",
              "      <td>yes</td>\n",
              "      <td>yes</td>\n",
              "      <td>yes</td>\n",
              "      <td>no</td>\n",
              "      <td>yes</td>\n",
              "      <td>2</td>\n",
              "      <td>no</td>\n",
              "      <td>furnished</td>\n",
              "    </tr>\n",
              "  </tbody>\n",
              "</table>\n",
              "</div>\n",
              "    <div class=\"colab-df-buttons\">\n",
              "\n",
              "  <div class=\"colab-df-container\">\n",
              "    <button class=\"colab-df-convert\" onclick=\"convertToInteractive('df-00eeee27-76ad-4cc7-a440-f6b4c814c2ab')\"\n",
              "            title=\"Convert this dataframe to an interactive table.\"\n",
              "            style=\"display:none;\">\n",
              "\n",
              "  <svg xmlns=\"http://www.w3.org/2000/svg\" height=\"24px\" viewBox=\"0 -960 960 960\">\n",
              "    <path d=\"M120-120v-720h720v720H120Zm60-500h600v-160H180v160Zm220 220h160v-160H400v160Zm0 220h160v-160H400v160ZM180-400h160v-160H180v160Zm440 0h160v-160H620v160ZM180-180h160v-160H180v160Zm440 0h160v-160H620v160Z\"/>\n",
              "  </svg>\n",
              "    </button>\n",
              "\n",
              "  <style>\n",
              "    .colab-df-container {\n",
              "      display:flex;\n",
              "      gap: 12px;\n",
              "    }\n",
              "\n",
              "    .colab-df-convert {\n",
              "      background-color: #E8F0FE;\n",
              "      border: none;\n",
              "      border-radius: 50%;\n",
              "      cursor: pointer;\n",
              "      display: none;\n",
              "      fill: #1967D2;\n",
              "      height: 32px;\n",
              "      padding: 0 0 0 0;\n",
              "      width: 32px;\n",
              "    }\n",
              "\n",
              "    .colab-df-convert:hover {\n",
              "      background-color: #E2EBFA;\n",
              "      box-shadow: 0px 1px 2px rgba(60, 64, 67, 0.3), 0px 1px 3px 1px rgba(60, 64, 67, 0.15);\n",
              "      fill: #174EA6;\n",
              "    }\n",
              "\n",
              "    .colab-df-buttons div {\n",
              "      margin-bottom: 4px;\n",
              "    }\n",
              "\n",
              "    [theme=dark] .colab-df-convert {\n",
              "      background-color: #3B4455;\n",
              "      fill: #D2E3FC;\n",
              "    }\n",
              "\n",
              "    [theme=dark] .colab-df-convert:hover {\n",
              "      background-color: #434B5C;\n",
              "      box-shadow: 0px 1px 3px 1px rgba(0, 0, 0, 0.15);\n",
              "      filter: drop-shadow(0px 1px 2px rgba(0, 0, 0, 0.3));\n",
              "      fill: #FFFFFF;\n",
              "    }\n",
              "  </style>\n",
              "\n",
              "    <script>\n",
              "      const buttonEl =\n",
              "        document.querySelector('#df-00eeee27-76ad-4cc7-a440-f6b4c814c2ab button.colab-df-convert');\n",
              "      buttonEl.style.display =\n",
              "        google.colab.kernel.accessAllowed ? 'block' : 'none';\n",
              "\n",
              "      async function convertToInteractive(key) {\n",
              "        const element = document.querySelector('#df-00eeee27-76ad-4cc7-a440-f6b4c814c2ab');\n",
              "        const dataTable =\n",
              "          await google.colab.kernel.invokeFunction('convertToInteractive',\n",
              "                                                    [key], {});\n",
              "        if (!dataTable) return;\n",
              "\n",
              "        const docLinkHtml = 'Like what you see? Visit the ' +\n",
              "          '<a target=\"_blank\" href=https://colab.research.google.com/notebooks/data_table.ipynb>data table notebook</a>'\n",
              "          + ' to learn more about interactive tables.';\n",
              "        element.innerHTML = '';\n",
              "        dataTable['output_type'] = 'display_data';\n",
              "        await google.colab.output.renderOutput(dataTable, element);\n",
              "        const docLink = document.createElement('div');\n",
              "        docLink.innerHTML = docLinkHtml;\n",
              "        element.appendChild(docLink);\n",
              "      }\n",
              "    </script>\n",
              "  </div>\n",
              "\n",
              "\n",
              "    <div id=\"df-f2da1829-dff3-4233-be1d-0561ae163d55\">\n",
              "      <button class=\"colab-df-quickchart\" onclick=\"quickchart('df-f2da1829-dff3-4233-be1d-0561ae163d55')\"\n",
              "                title=\"Suggest charts\"\n",
              "                style=\"display:none;\">\n",
              "\n",
              "<svg xmlns=\"http://www.w3.org/2000/svg\" height=\"24px\"viewBox=\"0 0 24 24\"\n",
              "     width=\"24px\">\n",
              "    <g>\n",
              "        <path d=\"M19 3H5c-1.1 0-2 .9-2 2v14c0 1.1.9 2 2 2h14c1.1 0 2-.9 2-2V5c0-1.1-.9-2-2-2zM9 17H7v-7h2v7zm4 0h-2V7h2v10zm4 0h-2v-4h2v4z\"/>\n",
              "    </g>\n",
              "</svg>\n",
              "      </button>\n",
              "\n",
              "<style>\n",
              "  .colab-df-quickchart {\n",
              "      --bg-color: #E8F0FE;\n",
              "      --fill-color: #1967D2;\n",
              "      --hover-bg-color: #E2EBFA;\n",
              "      --hover-fill-color: #174EA6;\n",
              "      --disabled-fill-color: #AAA;\n",
              "      --disabled-bg-color: #DDD;\n",
              "  }\n",
              "\n",
              "  [theme=dark] .colab-df-quickchart {\n",
              "      --bg-color: #3B4455;\n",
              "      --fill-color: #D2E3FC;\n",
              "      --hover-bg-color: #434B5C;\n",
              "      --hover-fill-color: #FFFFFF;\n",
              "      --disabled-bg-color: #3B4455;\n",
              "      --disabled-fill-color: #666;\n",
              "  }\n",
              "\n",
              "  .colab-df-quickchart {\n",
              "    background-color: var(--bg-color);\n",
              "    border: none;\n",
              "    border-radius: 50%;\n",
              "    cursor: pointer;\n",
              "    display: none;\n",
              "    fill: var(--fill-color);\n",
              "    height: 32px;\n",
              "    padding: 0;\n",
              "    width: 32px;\n",
              "  }\n",
              "\n",
              "  .colab-df-quickchart:hover {\n",
              "    background-color: var(--hover-bg-color);\n",
              "    box-shadow: 0 1px 2px rgba(60, 64, 67, 0.3), 0 1px 3px 1px rgba(60, 64, 67, 0.15);\n",
              "    fill: var(--button-hover-fill-color);\n",
              "  }\n",
              "\n",
              "  .colab-df-quickchart-complete:disabled,\n",
              "  .colab-df-quickchart-complete:disabled:hover {\n",
              "    background-color: var(--disabled-bg-color);\n",
              "    fill: var(--disabled-fill-color);\n",
              "    box-shadow: none;\n",
              "  }\n",
              "\n",
              "  .colab-df-spinner {\n",
              "    border: 2px solid var(--fill-color);\n",
              "    border-color: transparent;\n",
              "    border-bottom-color: var(--fill-color);\n",
              "    animation:\n",
              "      spin 1s steps(1) infinite;\n",
              "  }\n",
              "\n",
              "  @keyframes spin {\n",
              "    0% {\n",
              "      border-color: transparent;\n",
              "      border-bottom-color: var(--fill-color);\n",
              "      border-left-color: var(--fill-color);\n",
              "    }\n",
              "    20% {\n",
              "      border-color: transparent;\n",
              "      border-left-color: var(--fill-color);\n",
              "      border-top-color: var(--fill-color);\n",
              "    }\n",
              "    30% {\n",
              "      border-color: transparent;\n",
              "      border-left-color: var(--fill-color);\n",
              "      border-top-color: var(--fill-color);\n",
              "      border-right-color: var(--fill-color);\n",
              "    }\n",
              "    40% {\n",
              "      border-color: transparent;\n",
              "      border-right-color: var(--fill-color);\n",
              "      border-top-color: var(--fill-color);\n",
              "    }\n",
              "    60% {\n",
              "      border-color: transparent;\n",
              "      border-right-color: var(--fill-color);\n",
              "    }\n",
              "    80% {\n",
              "      border-color: transparent;\n",
              "      border-right-color: var(--fill-color);\n",
              "      border-bottom-color: var(--fill-color);\n",
              "    }\n",
              "    90% {\n",
              "      border-color: transparent;\n",
              "      border-bottom-color: var(--fill-color);\n",
              "    }\n",
              "  }\n",
              "</style>\n",
              "\n",
              "      <script>\n",
              "        async function quickchart(key) {\n",
              "          const quickchartButtonEl =\n",
              "            document.querySelector('#' + key + ' button');\n",
              "          quickchartButtonEl.disabled = true;  // To prevent multiple clicks.\n",
              "          quickchartButtonEl.classList.add('colab-df-spinner');\n",
              "          try {\n",
              "            const charts = await google.colab.kernel.invokeFunction(\n",
              "                'suggestCharts', [key], {});\n",
              "          } catch (error) {\n",
              "            console.error('Error during call to suggestCharts:', error);\n",
              "          }\n",
              "          quickchartButtonEl.classList.remove('colab-df-spinner');\n",
              "          quickchartButtonEl.classList.add('colab-df-quickchart-complete');\n",
              "        }\n",
              "        (() => {\n",
              "          let quickchartButtonEl =\n",
              "            document.querySelector('#df-f2da1829-dff3-4233-be1d-0561ae163d55 button');\n",
              "          quickchartButtonEl.style.display =\n",
              "            google.colab.kernel.accessAllowed ? 'block' : 'none';\n",
              "        })();\n",
              "      </script>\n",
              "    </div>\n",
              "\n",
              "    </div>\n",
              "  </div>\n"
            ],
            "application/vnd.google.colaboratory.intrinsic+json": {
              "type": "dataframe",
              "variable_name": "df",
              "summary": "{\n  \"name\": \"df\",\n  \"rows\": 545,\n  \"fields\": [\n    {\n      \"column\": \"price\",\n      \"properties\": {\n        \"dtype\": \"number\",\n        \"std\": 1870439,\n        \"min\": 1750000,\n        \"max\": 13300000,\n        \"num_unique_values\": 219,\n        \"samples\": [\n          3773000,\n          5285000,\n          1820000\n        ],\n        \"semantic_type\": \"\",\n        \"description\": \"\"\n      }\n    },\n    {\n      \"column\": \"area\",\n      \"properties\": {\n        \"dtype\": \"number\",\n        \"std\": 2170,\n        \"min\": 1650,\n        \"max\": 16200,\n        \"num_unique_values\": 284,\n        \"samples\": [\n          6000,\n          2684,\n          5360\n        ],\n        \"semantic_type\": \"\",\n        \"description\": \"\"\n      }\n    },\n    {\n      \"column\": \"bedrooms\",\n      \"properties\": {\n        \"dtype\": \"number\",\n        \"std\": 0,\n        \"min\": 1,\n        \"max\": 6,\n        \"num_unique_values\": 6,\n        \"samples\": [\n          4,\n          3,\n          1\n        ],\n        \"semantic_type\": \"\",\n        \"description\": \"\"\n      }\n    },\n    {\n      \"column\": \"bathrooms\",\n      \"properties\": {\n        \"dtype\": \"number\",\n        \"std\": 0,\n        \"min\": 1,\n        \"max\": 4,\n        \"num_unique_values\": 4,\n        \"samples\": [\n          4,\n          3,\n          2\n        ],\n        \"semantic_type\": \"\",\n        \"description\": \"\"\n      }\n    },\n    {\n      \"column\": \"stories\",\n      \"properties\": {\n        \"dtype\": \"number\",\n        \"std\": 0,\n        \"min\": 1,\n        \"max\": 4,\n        \"num_unique_values\": 4,\n        \"samples\": [\n          4,\n          1,\n          3\n        ],\n        \"semantic_type\": \"\",\n        \"description\": \"\"\n      }\n    },\n    {\n      \"column\": \"mainroad\",\n      \"properties\": {\n        \"dtype\": \"category\",\n        \"num_unique_values\": 2,\n        \"samples\": [\n          \"no\",\n          \"yes\"\n        ],\n        \"semantic_type\": \"\",\n        \"description\": \"\"\n      }\n    },\n    {\n      \"column\": \"guestroom\",\n      \"properties\": {\n        \"dtype\": \"category\",\n        \"num_unique_values\": 2,\n        \"samples\": [\n          \"yes\",\n          \"no\"\n        ],\n        \"semantic_type\": \"\",\n        \"description\": \"\"\n      }\n    },\n    {\n      \"column\": \"basement\",\n      \"properties\": {\n        \"dtype\": \"category\",\n        \"num_unique_values\": 2,\n        \"samples\": [\n          \"yes\",\n          \"no\"\n        ],\n        \"semantic_type\": \"\",\n        \"description\": \"\"\n      }\n    },\n    {\n      \"column\": \"hotwaterheating\",\n      \"properties\": {\n        \"dtype\": \"category\",\n        \"num_unique_values\": 2,\n        \"samples\": [\n          \"yes\",\n          \"no\"\n        ],\n        \"semantic_type\": \"\",\n        \"description\": \"\"\n      }\n    },\n    {\n      \"column\": \"airconditioning\",\n      \"properties\": {\n        \"dtype\": \"category\",\n        \"num_unique_values\": 2,\n        \"samples\": [\n          \"no\",\n          \"yes\"\n        ],\n        \"semantic_type\": \"\",\n        \"description\": \"\"\n      }\n    },\n    {\n      \"column\": \"parking\",\n      \"properties\": {\n        \"dtype\": \"number\",\n        \"std\": 0,\n        \"min\": 0,\n        \"max\": 3,\n        \"num_unique_values\": 4,\n        \"samples\": [\n          3,\n          1\n        ],\n        \"semantic_type\": \"\",\n        \"description\": \"\"\n      }\n    },\n    {\n      \"column\": \"prefarea\",\n      \"properties\": {\n        \"dtype\": \"category\",\n        \"num_unique_values\": 2,\n        \"samples\": [\n          \"no\",\n          \"yes\"\n        ],\n        \"semantic_type\": \"\",\n        \"description\": \"\"\n      }\n    },\n    {\n      \"column\": \"furnishingstatus\",\n      \"properties\": {\n        \"dtype\": \"category\",\n        \"num_unique_values\": 3,\n        \"samples\": [\n          \"furnished\",\n          \"semi-furnished\"\n        ],\n        \"semantic_type\": \"\",\n        \"description\": \"\"\n      }\n    }\n  ]\n}"
            }
          },
          "metadata": {},
          "execution_count": 47
        }
      ]
    },
    {
      "cell_type": "code",
      "source": [],
      "metadata": {
        "id": "LanzWPErRDLl"
      },
      "execution_count": 47,
      "outputs": []
    },
    {
      "cell_type": "markdown",
      "metadata": {
        "id": "f6a96805"
      },
      "source": [
        "# Task\n",
        "Perform exploratory data analysis (EDA) on the uploaded dataset. The EDA should include exploring the data, visualizing the data, identifying outliers, analyzing categorical variables, and performing correlation analysis. Each step of the EDA should be presented in a separate code cell."
      ]
    },
    {
      "cell_type": "markdown",
      "metadata": {
        "id": "45a53caa"
      },
      "source": [
        "## Explore the data\n",
        "\n",
        "### Subtask:\n",
        "Check the data types, missing values, and summary statistics.\n"
      ]
    },
    {
      "cell_type": "markdown",
      "metadata": {
        "id": "cf5dd79e"
      },
      "source": [
        "**Reasoning**:\n",
        "Print the data types, check for missing values, and display descriptive statistics for the DataFrame `df`.\n",
        "\n"
      ]
    },
    {
      "cell_type": "code",
      "metadata": {
        "colab": {
          "base_uri": "https://localhost:8080/",
          "height": 943
        },
        "id": "7dae766b",
        "outputId": "2c777019-d645-440f-c9da-ccc58f151361"
      },
      "source": [
        "df.info()\n",
        "print(\"\\nMissing values per column:\")\n",
        "print(df.isnull().sum())\n",
        "print(\"\\nDescriptive statistics:\")\n",
        "display(df.describe())"
      ],
      "execution_count": 48,
      "outputs": [
        {
          "output_type": "stream",
          "name": "stdout",
          "text": [
            "<class 'pandas.core.frame.DataFrame'>\n",
            "RangeIndex: 545 entries, 0 to 544\n",
            "Data columns (total 13 columns):\n",
            " #   Column            Non-Null Count  Dtype \n",
            "---  ------            --------------  ----- \n",
            " 0   price             545 non-null    int64 \n",
            " 1   area              545 non-null    int64 \n",
            " 2   bedrooms          545 non-null    int64 \n",
            " 3   bathrooms         545 non-null    int64 \n",
            " 4   stories           545 non-null    int64 \n",
            " 5   mainroad          545 non-null    object\n",
            " 6   guestroom         545 non-null    object\n",
            " 7   basement          545 non-null    object\n",
            " 8   hotwaterheating   545 non-null    object\n",
            " 9   airconditioning   545 non-null    object\n",
            " 10  parking           545 non-null    int64 \n",
            " 11  prefarea          545 non-null    object\n",
            " 12  furnishingstatus  545 non-null    object\n",
            "dtypes: int64(6), object(7)\n",
            "memory usage: 55.5+ KB\n",
            "\n",
            "Missing values per column:\n",
            "price               0\n",
            "area                0\n",
            "bedrooms            0\n",
            "bathrooms           0\n",
            "stories             0\n",
            "mainroad            0\n",
            "guestroom           0\n",
            "basement            0\n",
            "hotwaterheating     0\n",
            "airconditioning     0\n",
            "parking             0\n",
            "prefarea            0\n",
            "furnishingstatus    0\n",
            "dtype: int64\n",
            "\n",
            "Descriptive statistics:\n"
          ]
        },
        {
          "output_type": "display_data",
          "data": {
            "text/plain": [
              "              price          area    bedrooms   bathrooms     stories  \\\n",
              "count  5.450000e+02    545.000000  545.000000  545.000000  545.000000   \n",
              "mean   4.766729e+06   5150.541284    2.965138    1.286239    1.805505   \n",
              "std    1.870440e+06   2170.141023    0.738064    0.502470    0.867492   \n",
              "min    1.750000e+06   1650.000000    1.000000    1.000000    1.000000   \n",
              "25%    3.430000e+06   3600.000000    2.000000    1.000000    1.000000   \n",
              "50%    4.340000e+06   4600.000000    3.000000    1.000000    2.000000   \n",
              "75%    5.740000e+06   6360.000000    3.000000    2.000000    2.000000   \n",
              "max    1.330000e+07  16200.000000    6.000000    4.000000    4.000000   \n",
              "\n",
              "          parking  \n",
              "count  545.000000  \n",
              "mean     0.693578  \n",
              "std      0.861586  \n",
              "min      0.000000  \n",
              "25%      0.000000  \n",
              "50%      0.000000  \n",
              "75%      1.000000  \n",
              "max      3.000000  "
            ],
            "text/html": [
              "\n",
              "  <div id=\"df-6f115572-c200-4442-89a5-e2a784dde8ac\" class=\"colab-df-container\">\n",
              "    <div>\n",
              "<style scoped>\n",
              "    .dataframe tbody tr th:only-of-type {\n",
              "        vertical-align: middle;\n",
              "    }\n",
              "\n",
              "    .dataframe tbody tr th {\n",
              "        vertical-align: top;\n",
              "    }\n",
              "\n",
              "    .dataframe thead th {\n",
              "        text-align: right;\n",
              "    }\n",
              "</style>\n",
              "<table border=\"1\" class=\"dataframe\">\n",
              "  <thead>\n",
              "    <tr style=\"text-align: right;\">\n",
              "      <th></th>\n",
              "      <th>price</th>\n",
              "      <th>area</th>\n",
              "      <th>bedrooms</th>\n",
              "      <th>bathrooms</th>\n",
              "      <th>stories</th>\n",
              "      <th>parking</th>\n",
              "    </tr>\n",
              "  </thead>\n",
              "  <tbody>\n",
              "    <tr>\n",
              "      <th>count</th>\n",
              "      <td>5.450000e+02</td>\n",
              "      <td>545.000000</td>\n",
              "      <td>545.000000</td>\n",
              "      <td>545.000000</td>\n",
              "      <td>545.000000</td>\n",
              "      <td>545.000000</td>\n",
              "    </tr>\n",
              "    <tr>\n",
              "      <th>mean</th>\n",
              "      <td>4.766729e+06</td>\n",
              "      <td>5150.541284</td>\n",
              "      <td>2.965138</td>\n",
              "      <td>1.286239</td>\n",
              "      <td>1.805505</td>\n",
              "      <td>0.693578</td>\n",
              "    </tr>\n",
              "    <tr>\n",
              "      <th>std</th>\n",
              "      <td>1.870440e+06</td>\n",
              "      <td>2170.141023</td>\n",
              "      <td>0.738064</td>\n",
              "      <td>0.502470</td>\n",
              "      <td>0.867492</td>\n",
              "      <td>0.861586</td>\n",
              "    </tr>\n",
              "    <tr>\n",
              "      <th>min</th>\n",
              "      <td>1.750000e+06</td>\n",
              "      <td>1650.000000</td>\n",
              "      <td>1.000000</td>\n",
              "      <td>1.000000</td>\n",
              "      <td>1.000000</td>\n",
              "      <td>0.000000</td>\n",
              "    </tr>\n",
              "    <tr>\n",
              "      <th>25%</th>\n",
              "      <td>3.430000e+06</td>\n",
              "      <td>3600.000000</td>\n",
              "      <td>2.000000</td>\n",
              "      <td>1.000000</td>\n",
              "      <td>1.000000</td>\n",
              "      <td>0.000000</td>\n",
              "    </tr>\n",
              "    <tr>\n",
              "      <th>50%</th>\n",
              "      <td>4.340000e+06</td>\n",
              "      <td>4600.000000</td>\n",
              "      <td>3.000000</td>\n",
              "      <td>1.000000</td>\n",
              "      <td>2.000000</td>\n",
              "      <td>0.000000</td>\n",
              "    </tr>\n",
              "    <tr>\n",
              "      <th>75%</th>\n",
              "      <td>5.740000e+06</td>\n",
              "      <td>6360.000000</td>\n",
              "      <td>3.000000</td>\n",
              "      <td>2.000000</td>\n",
              "      <td>2.000000</td>\n",
              "      <td>1.000000</td>\n",
              "    </tr>\n",
              "    <tr>\n",
              "      <th>max</th>\n",
              "      <td>1.330000e+07</td>\n",
              "      <td>16200.000000</td>\n",
              "      <td>6.000000</td>\n",
              "      <td>4.000000</td>\n",
              "      <td>4.000000</td>\n",
              "      <td>3.000000</td>\n",
              "    </tr>\n",
              "  </tbody>\n",
              "</table>\n",
              "</div>\n",
              "    <div class=\"colab-df-buttons\">\n",
              "\n",
              "  <div class=\"colab-df-container\">\n",
              "    <button class=\"colab-df-convert\" onclick=\"convertToInteractive('df-6f115572-c200-4442-89a5-e2a784dde8ac')\"\n",
              "            title=\"Convert this dataframe to an interactive table.\"\n",
              "            style=\"display:none;\">\n",
              "\n",
              "  <svg xmlns=\"http://www.w3.org/2000/svg\" height=\"24px\" viewBox=\"0 -960 960 960\">\n",
              "    <path d=\"M120-120v-720h720v720H120Zm60-500h600v-160H180v160Zm220 220h160v-160H400v160Zm0 220h160v-160H400v160ZM180-400h160v-160H180v160Zm440 0h160v-160H620v160ZM180-180h160v-160H180v160Zm440 0h160v-160H620v160Z\"/>\n",
              "  </svg>\n",
              "    </button>\n",
              "\n",
              "  <style>\n",
              "    .colab-df-container {\n",
              "      display:flex;\n",
              "      gap: 12px;\n",
              "    }\n",
              "\n",
              "    .colab-df-convert {\n",
              "      background-color: #E8F0FE;\n",
              "      border: none;\n",
              "      border-radius: 50%;\n",
              "      cursor: pointer;\n",
              "      display: none;\n",
              "      fill: #1967D2;\n",
              "      height: 32px;\n",
              "      padding: 0 0 0 0;\n",
              "      width: 32px;\n",
              "    }\n",
              "\n",
              "    .colab-df-convert:hover {\n",
              "      background-color: #E2EBFA;\n",
              "      box-shadow: 0px 1px 2px rgba(60, 64, 67, 0.3), 0px 1px 3px 1px rgba(60, 64, 67, 0.15);\n",
              "      fill: #174EA6;\n",
              "    }\n",
              "\n",
              "    .colab-df-buttons div {\n",
              "      margin-bottom: 4px;\n",
              "    }\n",
              "\n",
              "    [theme=dark] .colab-df-convert {\n",
              "      background-color: #3B4455;\n",
              "      fill: #D2E3FC;\n",
              "    }\n",
              "\n",
              "    [theme=dark] .colab-df-convert:hover {\n",
              "      background-color: #434B5C;\n",
              "      box-shadow: 0px 1px 3px 1px rgba(0, 0, 0, 0.15);\n",
              "      filter: drop-shadow(0px 1px 2px rgba(0, 0, 0, 0.3));\n",
              "      fill: #FFFFFF;\n",
              "    }\n",
              "  </style>\n",
              "\n",
              "    <script>\n",
              "      const buttonEl =\n",
              "        document.querySelector('#df-6f115572-c200-4442-89a5-e2a784dde8ac button.colab-df-convert');\n",
              "      buttonEl.style.display =\n",
              "        google.colab.kernel.accessAllowed ? 'block' : 'none';\n",
              "\n",
              "      async function convertToInteractive(key) {\n",
              "        const element = document.querySelector('#df-6f115572-c200-4442-89a5-e2a784dde8ac');\n",
              "        const dataTable =\n",
              "          await google.colab.kernel.invokeFunction('convertToInteractive',\n",
              "                                                    [key], {});\n",
              "        if (!dataTable) return;\n",
              "\n",
              "        const docLinkHtml = 'Like what you see? Visit the ' +\n",
              "          '<a target=\"_blank\" href=https://colab.research.google.com/notebooks/data_table.ipynb>data table notebook</a>'\n",
              "          + ' to learn more about interactive tables.';\n",
              "        element.innerHTML = '';\n",
              "        dataTable['output_type'] = 'display_data';\n",
              "        await google.colab.output.renderOutput(dataTable, element);\n",
              "        const docLink = document.createElement('div');\n",
              "        docLink.innerHTML = docLinkHtml;\n",
              "        element.appendChild(docLink);\n",
              "      }\n",
              "    </script>\n",
              "  </div>\n",
              "\n",
              "\n",
              "    <div id=\"df-9708fcdb-c7fa-4b31-83bd-cf7c814e2c16\">\n",
              "      <button class=\"colab-df-quickchart\" onclick=\"quickchart('df-9708fcdb-c7fa-4b31-83bd-cf7c814e2c16')\"\n",
              "                title=\"Suggest charts\"\n",
              "                style=\"display:none;\">\n",
              "\n",
              "<svg xmlns=\"http://www.w3.org/2000/svg\" height=\"24px\"viewBox=\"0 0 24 24\"\n",
              "     width=\"24px\">\n",
              "    <g>\n",
              "        <path d=\"M19 3H5c-1.1 0-2 .9-2 2v14c0 1.1.9 2 2 2h14c1.1 0 2-.9 2-2V5c0-1.1-.9-2-2-2zM9 17H7v-7h2v7zm4 0h-2V7h2v10zm4 0h-2v-4h2v4z\"/>\n",
              "    </g>\n",
              "</svg>\n",
              "      </button>\n",
              "\n",
              "<style>\n",
              "  .colab-df-quickchart {\n",
              "      --bg-color: #E8F0FE;\n",
              "      --fill-color: #1967D2;\n",
              "      --hover-bg-color: #E2EBFA;\n",
              "      --hover-fill-color: #174EA6;\n",
              "      --disabled-fill-color: #AAA;\n",
              "      --disabled-bg-color: #DDD;\n",
              "  }\n",
              "\n",
              "  [theme=dark] .colab-df-quickchart {\n",
              "      --bg-color: #3B4455;\n",
              "      --fill-color: #D2E3FC;\n",
              "      --hover-bg-color: #434B5C;\n",
              "      --hover-fill-color: #FFFFFF;\n",
              "      --disabled-bg-color: #3B4455;\n",
              "      --disabled-fill-color: #666;\n",
              "  }\n",
              "\n",
              "  .colab-df-quickchart {\n",
              "    background-color: var(--bg-color);\n",
              "    border: none;\n",
              "    border-radius: 50%;\n",
              "    cursor: pointer;\n",
              "    display: none;\n",
              "    fill: var(--fill-color);\n",
              "    height: 32px;\n",
              "    padding: 0;\n",
              "    width: 32px;\n",
              "  }\n",
              "\n",
              "  .colab-df-quickchart:hover {\n",
              "    background-color: var(--hover-bg-color);\n",
              "    box-shadow: 0 1px 2px rgba(60, 64, 67, 0.3), 0 1px 3px 1px rgba(60, 64, 67, 0.15);\n",
              "    fill: var(--button-hover-fill-color);\n",
              "  }\n",
              "\n",
              "  .colab-df-quickchart-complete:disabled,\n",
              "  .colab-df-quickchart-complete:disabled:hover {\n",
              "    background-color: var(--disabled-bg-color);\n",
              "    fill: var(--disabled-fill-color);\n",
              "    box-shadow: none;\n",
              "  }\n",
              "\n",
              "  .colab-df-spinner {\n",
              "    border: 2px solid var(--fill-color);\n",
              "    border-color: transparent;\n",
              "    border-bottom-color: var(--fill-color);\n",
              "    animation:\n",
              "      spin 1s steps(1) infinite;\n",
              "  }\n",
              "\n",
              "  @keyframes spin {\n",
              "    0% {\n",
              "      border-color: transparent;\n",
              "      border-bottom-color: var(--fill-color);\n",
              "      border-left-color: var(--fill-color);\n",
              "    }\n",
              "    20% {\n",
              "      border-color: transparent;\n",
              "      border-left-color: var(--fill-color);\n",
              "      border-top-color: var(--fill-color);\n",
              "    }\n",
              "    30% {\n",
              "      border-color: transparent;\n",
              "      border-left-color: var(--fill-color);\n",
              "      border-top-color: var(--fill-color);\n",
              "      border-right-color: var(--fill-color);\n",
              "    }\n",
              "    40% {\n",
              "      border-color: transparent;\n",
              "      border-right-color: var(--fill-color);\n",
              "      border-top-color: var(--fill-color);\n",
              "    }\n",
              "    60% {\n",
              "      border-color: transparent;\n",
              "      border-right-color: var(--fill-color);\n",
              "    }\n",
              "    80% {\n",
              "      border-color: transparent;\n",
              "      border-right-color: var(--fill-color);\n",
              "      border-bottom-color: var(--fill-color);\n",
              "    }\n",
              "    90% {\n",
              "      border-color: transparent;\n",
              "      border-bottom-color: var(--fill-color);\n",
              "    }\n",
              "  }\n",
              "</style>\n",
              "\n",
              "      <script>\n",
              "        async function quickchart(key) {\n",
              "          const quickchartButtonEl =\n",
              "            document.querySelector('#' + key + ' button');\n",
              "          quickchartButtonEl.disabled = true;  // To prevent multiple clicks.\n",
              "          quickchartButtonEl.classList.add('colab-df-spinner');\n",
              "          try {\n",
              "            const charts = await google.colab.kernel.invokeFunction(\n",
              "                'suggestCharts', [key], {});\n",
              "          } catch (error) {\n",
              "            console.error('Error during call to suggestCharts:', error);\n",
              "          }\n",
              "          quickchartButtonEl.classList.remove('colab-df-spinner');\n",
              "          quickchartButtonEl.classList.add('colab-df-quickchart-complete');\n",
              "        }\n",
              "        (() => {\n",
              "          let quickchartButtonEl =\n",
              "            document.querySelector('#df-9708fcdb-c7fa-4b31-83bd-cf7c814e2c16 button');\n",
              "          quickchartButtonEl.style.display =\n",
              "            google.colab.kernel.accessAllowed ? 'block' : 'none';\n",
              "        })();\n",
              "      </script>\n",
              "    </div>\n",
              "\n",
              "    </div>\n",
              "  </div>\n"
            ],
            "application/vnd.google.colaboratory.intrinsic+json": {
              "type": "dataframe",
              "summary": "{\n  \"name\": \"display(df\",\n  \"rows\": 8,\n  \"fields\": [\n    {\n      \"column\": \"price\",\n      \"properties\": {\n        \"dtype\": \"number\",\n        \"std\": 4050766.5892287116,\n        \"min\": 545.0,\n        \"max\": 13300000.0,\n        \"num_unique_values\": 8,\n        \"samples\": [\n          4766729.247706422,\n          4340000.0,\n          545.0\n        ],\n        \"semantic_type\": \"\",\n        \"description\": \"\"\n      }\n    },\n    {\n      \"column\": \"area\",\n      \"properties\": {\n        \"dtype\": \"number\",\n        \"std\": 4906.2698868605785,\n        \"min\": 545.0,\n        \"max\": 16200.0,\n        \"num_unique_values\": 8,\n        \"samples\": [\n          5150.54128440367,\n          4600.0,\n          545.0\n        ],\n        \"semantic_type\": \"\",\n        \"description\": \"\"\n      }\n    },\n    {\n      \"column\": \"bedrooms\",\n      \"properties\": {\n        \"dtype\": \"number\",\n        \"std\": 191.74878444768592,\n        \"min\": 0.738063860568575,\n        \"max\": 545.0,\n        \"num_unique_values\": 7,\n        \"samples\": [\n          545.0,\n          2.9651376146788992,\n          3.0\n        ],\n        \"semantic_type\": \"\",\n        \"description\": \"\"\n      }\n    },\n    {\n      \"column\": \"bathrooms\",\n      \"properties\": {\n        \"dtype\": \"number\",\n        \"std\": 192.14476345868238,\n        \"min\": 0.502469616053218,\n        \"max\": 545.0,\n        \"num_unique_values\": 6,\n        \"samples\": [\n          545.0,\n          1.2862385321100918,\n          4.0\n        ],\n        \"semantic_type\": \"\",\n        \"description\": \"\"\n      }\n    },\n    {\n      \"column\": \"stories\",\n      \"properties\": {\n        \"dtype\": \"number\",\n        \"std\": 192.04914398408363,\n        \"min\": 0.8674924629255298,\n        \"max\": 545.0,\n        \"num_unique_values\": 6,\n        \"samples\": [\n          545.0,\n          1.8055045871559634,\n          4.0\n        ],\n        \"semantic_type\": \"\",\n        \"description\": \"\"\n      }\n    },\n    {\n      \"column\": \"parking\",\n      \"properties\": {\n        \"dtype\": \"number\",\n        \"std\": 192.40854964721382,\n        \"min\": 0.0,\n        \"max\": 545.0,\n        \"num_unique_values\": 6,\n        \"samples\": [\n          545.0,\n          0.6935779816513762,\n          3.0\n        ],\n        \"semantic_type\": \"\",\n        \"description\": \"\"\n      }\n    }\n  ]\n}"
            }
          },
          "metadata": {}
        }
      ]
    },
    {
      "cell_type": "markdown",
      "metadata": {
        "id": "5a9e8188"
      },
      "source": [
        "## Visualize the data\n",
        "\n",
        "### Subtask:\n",
        "Create plots to understand the distribution of features and relationships between them.\n"
      ]
    },
    {
      "cell_type": "markdown",
      "metadata": {
        "id": "6b1b6f84"
      },
      "source": [
        "**Reasoning**:\n",
        "Create the required plots to visualize the distribution of features and relationships between them.\n",
        "\n"
      ]
    },
    {
      "cell_type": "code",
      "metadata": {
        "colab": {
          "base_uri": "https://localhost:8080/",
          "height": 1000
        },
        "id": "4b492fcc",
        "outputId": "42515f4e-33b9-47c8-b4e2-40c6624cdc47"
      },
      "source": [
        "import matplotlib.pyplot as plt\n",
        "import seaborn as sns\n",
        "\n",
        "# 1. Histogram for 'price'\n",
        "plt.figure(figsize=(10, 6))\n",
        "sns.histplot(df['price'], kde=True)\n",
        "plt.title('Distribution of Housing Prices')\n",
        "plt.xlabel('Price')\n",
        "plt.ylabel('Frequency')\n",
        "plt.show()\n",
        "\n",
        "# 2. Scatter plot of 'area' vs. 'price'\n",
        "plt.figure(figsize=(10, 6))\n",
        "sns.scatterplot(x='area', y='price', data=df)\n",
        "plt.title('Relationship between Area and Price')\n",
        "plt.xlabel('Bedro')\n",
        "plt.ylabel('Price')\n",
        "plt.show()\n",
        "\n",
        "# 3. Box plot for 'bedrooms'\n",
        "plt.figure(figsize=(8, 6))\n",
        "sns.boxplot(y='bedrooms', data=df)\n",
        "plt.title('Distribution of Number of Bedrooms')\n",
        "plt.ylabel('Bedrooms')\n",
        "plt.show()"
      ],
      "execution_count": 49,
      "outputs": [
        {
          "output_type": "display_data",
          "data": {
            "text/plain": [
              "<Figure size 1000x600 with 1 Axes>"
            ],
            "image/png": "[encoded data removed]"
          },
          "metadata": {}
        },
        {
          "output_type": "display_data",
          "data": {
            "text/plain": [
              "<Figure size 1000x600 with 1 Axes>"
            ],
            "image/png": "[encoded data removed]"
          },
          "metadata": {}
        },
        {
          "output_type": "display_data",
          "data": {
            "text/plain": [
              "<Figure size 800x600 with 1 Axes>"
            ],
            "image/png": "[encoded data removed]"
          },
          "metadata": {}
        }
      ]
    },
    {
      "cell_type": "markdown",
      "metadata": {
        "id": "160d03b2"
      },
      "source": [
        "## Identify outliers\n",
        "\n",
        "### Subtask:\n",
        "Detect and analyze any outliers in the dataset.\n"
      ]
    },
    {
      "cell_type": "markdown",
      "metadata": {
        "id": "f39a96b5"
      },
      "source": [
        "**Reasoning**:\n",
        "Select numerical columns, create box plots, calculate IQR and bounds, and count outliers for each numerical column to detect and analyze outliers.\n",
        "\n"
      ]
    },
    {
      "cell_type": "code",
      "metadata": {
        "colab": {
          "base_uri": "https://localhost:8080/",
          "height": 726
        },
        "id": "e2d65a5f",
        "outputId": "ebb0c3c1-f4f0-4fd0-f57e-00777c58486b"
      },
      "source": [
        "# Select numerical columns\n",
        "numerical_cols = df.select_dtypes(include=np.number).columns.tolist()\n",
        "\n",
        "# Create box plots for numerical columns\n",
        "plt.figure(figsize=(15, 10))\n",
        "for i, col in enumerate(numerical_cols):\n",
        "    plt.subplot(3, 3, i + 1)\n",
        "    sns.boxplot(y=df[col])\n",
        "    plt.title(f'Box Plot of {col}')\n",
        "    plt.ylabel(col)\n",
        "plt.tight_layout()\n",
        "plt.show()\n",
        "\n",
        "# Detect and count outliers for each numerical column\n",
        "outliers = {}\n",
        "for col in numerical_cols:\n",
        "    Q1 = df[col].quantile(0.25)\n",
        "    Q3 = df[col].quantile(0.75)\n",
        "    IQR = Q3 - Q1\n",
        "    lower_bound = Q1 - 1.5 * IQR\n",
        "    upper_bound = Q3 + 1.5 * IQR\n",
        "    col_outliers = df[(df[col] < lower_bound) | (df[col] > upper_bound)]\n",
        "    outliers[col] = col_outliers.shape[0]\n",
        "\n",
        "print(\"\\nNumber of outliers per numerical column (using IQR method):\")\n",
        "for col, count in outliers.items():\n",
        "    print(f\"{col}: {count}\")"
      ],
      "execution_count": 50,
      "outputs": [
        {
          "output_type": "display_data",
          "data": {
            "text/plain": [
              "<Figure size 1500x1000 with 6 Axes>"
            ],
            "image/png": "[encoded data removed]"
          },
          "metadata": {}
        },
        {
          "output_type": "stream",
          "name": "stdout",
          "text": [
            "\n",
            "Number of outliers per numerical column (using IQR method):\n",
            "price: 15\n",
            "area: 12\n",
            "bedrooms: 12\n",
            "bathrooms: 1\n",
            "stories: 41\n",
            "parking: 12\n"
          ]
        }
      ]
    },
    {
      "cell_type": "markdown",
      "metadata": {
        "id": "0feb1a85"
      },
      "source": [
        "## Analyze categorical variables\n",
        "\n",
        "### Subtask:\n",
        "Explore the unique values and distribution of categorical features.\n"
      ]
    },
    {
      "cell_type": "markdown",
      "metadata": {
        "id": "f7397606"
      },
      "source": [
        "**Reasoning**:\n",
        "Select categorical columns, print unique values, and calculate value counts for each to explore their distribution.\n",
        "\n"
      ]
    },
    {
      "cell_type": "code",
      "metadata": {
        "colab": {
          "base_uri": "https://localhost:8080/"
        },
        "id": "f951dcfc",
        "outputId": "54a011da-ebf5-4eb5-d162-bddc1f4c37be"
      },
      "source": [
        "# Select categorical columns\n",
        "categorical_cols = df.select_dtypes(include='object').columns\n",
        "\n",
        "# Explore unique values and value counts for each categorical column\n",
        "for col in categorical_cols:\n",
        "    print(f\"\\nUnique values for {col}:\")\n",
        "    print(df[col].unique())\n",
        "\n",
        "    print(f\"\\nValue counts for {col}:\")\n",
        "    print(df[col].value_counts())"
      ],
      "execution_count": 51,
      "outputs": [
        {
          "output_type": "stream",
          "name": "stdout",
          "text": [
            "\n",
            "Unique values for mainroad:\n",
            "['yes' 'no']\n",
            "\n",
            "Value counts for mainroad:\n",
            "mainroad\n",
            "yes    468\n",
            "no      77\n",
            "Name: count, dtype: int64\n",
            "\n",
            "Unique values for guestroom:\n",
            "['no' 'yes']\n",
            "\n",
            "Value counts for guestroom:\n",
            "guestroom\n",
            "no     448\n",
            "yes     97\n",
            "Name: count, dtype: int64\n",
            "\n",
            "Unique values for basement:\n",
            "['no' 'yes']\n",
            "\n",
            "Value counts for basement:\n",
            "basement\n",
            "no     354\n",
            "yes    191\n",
            "Name: count, dtype: int64\n",
            "\n",
            "Unique values for hotwaterheating:\n",
            "['no' 'yes']\n",
            "\n",
            "Value counts for hotwaterheating:\n",
            "hotwaterheating\n",
            "no     520\n",
            "yes     25\n",
            "Name: count, dtype: int64\n",
            "\n",
            "Unique values for airconditioning:\n",
            "['yes' 'no']\n",
            "\n",
            "Value counts for airconditioning:\n",
            "airconditioning\n",
            "no     373\n",
            "yes    172\n",
            "Name: count, dtype: int64\n",
            "\n",
            "Unique values for prefarea:\n",
            "['yes' 'no']\n",
            "\n",
            "Value counts for prefarea:\n",
            "prefarea\n",
            "no     417\n",
            "yes    128\n",
            "Name: count, dtype: int64\n",
            "\n",
            "Unique values for furnishingstatus:\n",
            "['furnished' 'semi-furnished' 'unfurnished']\n",
            "\n",
            "Value counts for furnishingstatus:\n",
            "furnishingstatus\n",
            "semi-furnished    227\n",
            "unfurnished       178\n",
            "furnished         140\n",
            "Name: count, dtype: int64\n"
          ]
        }
      ]
    },
    {
      "cell_type": "markdown",
      "metadata": {
        "id": "ca802667"
      },
      "source": [
        "**Reasoning**:\n",
        "Calculate the correlation matrix and visualize it using a heatmap to understand the relationships between numerical features.\n",
        "\n"
      ]
    },
    {
      "cell_type": "code",
      "metadata": {
        "colab": {
          "base_uri": "https://localhost:8080/",
          "height": 699
        },
        "id": "552cb6bf",
        "outputId": "d5eadb0e-d6ec-48e0-e884-1c66b1c8fba2"
      },
      "source": [
        "# Calculate the correlation matrix\n",
        "correlation_matrix = df.corr(numeric_only=True)\n",
        "\n",
        "# Create a heatmap\n",
        "plt.figure(figsize=(10, 8))\n",
        "sns.heatmap(correlation_matrix, annot=True, cmap='coolwarm', fmt=\".2f\")\n",
        "plt.title('Correlation Matrix of Numerical Features')\n",
        "plt.show()"
      ],
      "execution_count": 52,
      "outputs": [
        {
          "output_type": "display_data",
          "data": {
            "text/plain": [
              "<Figure size 1000x800 with 2 Axes>"
            ],
            "image/png": "[encoded data removed]"
          },
          "metadata": {}
        }
      ]
    },
    {
      "cell_type": "code",
      "source": [
        "# Select features (X) and target (y)\n",
        "X = df[['area', 'bathrooms', 'stories', 'airconditioning', 'mainroad', 'guestroom', 'basement', 'hotwaterheating', 'prefarea', 'furnishingstatus']].copy()\n",
        "y = df['price'].values.reshape(-1, 1)\n",
        "\n",
        "# Convert categorical variables to numerical using one-hot encoding\n",
        "X = pd.get_dummies(X, columns=['airconditioning', 'mainroad', 'guestroom', 'basement', 'hotwaterheating', 'prefarea', 'furnishingstatus'], drop_first=True)\n",
        "\n",
        "# Convert X to a numpy array\n",
        "X = X.values"
      ],
      "metadata": {
        "id": "Hvcrks3gDK8Q"
      },
      "execution_count": 53,
      "outputs": []
    },
    {
      "cell_type": "code",
      "source": [
        "X"
      ],
      "metadata": {
        "colab": {
          "base_uri": "https://localhost:8080/"
        },
        "id": "RMnlFUtoRHAK",
        "outputId": "40ebc4de-e951-4c2a-b54e-001628b6875e"
      },
      "execution_count": 54,
      "outputs": [
        {
          "output_type": "execute_result",
          "data": {
            "text/plain": [
              "array([[7420, 2, 3, ..., True, False, False],\n",
              "       [8960, 4, 4, ..., False, False, False],\n",
              "       [9960, 2, 2, ..., True, True, False],\n",
              "       ...,\n",
              "       [3620, 1, 1, ..., False, False, True],\n",
              "       [2910, 1, 1, ..., False, False, False],\n",
              "       [3850, 1, 2, ..., False, False, True]], dtype=object)"
            ]
          },
          "metadata": {},
          "execution_count": 54
        }
      ]
    },
    {
      "cell_type": "code",
      "source": [
        "X.shape\n"
      ],
      "metadata": {
        "colab": {
          "base_uri": "https://localhost:8080/"
        },
        "id": "Qmp1d7lgDLdi",
        "outputId": "86504109-8484-483e-f23a-5f9b9991889a"
      },
      "execution_count": 55,
      "outputs": [
        {
          "output_type": "execute_result",
          "data": {
            "text/plain": [
              "(545, 11)"
            ]
          },
          "metadata": {},
          "execution_count": 55
        }
      ]
    },
    {
      "cell_type": "code",
      "source": [
        "y.shape"
      ],
      "metadata": {
        "colab": {
          "base_uri": "https://localhost:8080/"
        },
        "id": "0aa8OVk3Durd",
        "outputId": "262b9844-2195-474d-dd16-33c39eab866a"
      },
      "execution_count": 56,
      "outputs": [
        {
          "output_type": "execute_result",
          "data": {
            "text/plain": [
              "(545, 1)"
            ]
          },
          "metadata": {},
          "execution_count": 56
        }
      ]
    },
    {
      "cell_type": "code",
      "source": [
        "from sklearn.preprocessing import StandardScaler"
      ],
      "metadata": {
        "id": "yqQ1TzefDx5a"
      },
      "execution_count": 57,
      "outputs": []
    },
    {
      "cell_type": "code",
      "source": [
        "# Scale numerical features\n",
        "scaler = StandardScaler()\n",
        "X = scaler.fit_transform(X)\n",
        "\n",
        "# Add a column of ones for the intercept term after scaling\n",
        "X = np.c_[np.ones((X.shape[0], 1)), X]"
      ],
      "metadata": {
        "id": "x4f3Yle4Dx3E"
      },
      "execution_count": 58,
      "outputs": []
    },
    {
      "cell_type": "code",
      "source": [
        "# This cell is no longer needed as the intercept term is added in the previous cell\n",
        "# X=np.c_[np.ones((X.shape[0], 1)), X]"
      ],
      "metadata": {
        "id": "allHM-DiDxyY"
      },
      "execution_count": 59,
      "outputs": []
    },
    {
      "cell_type": "code",
      "source": [
        "def batch_gradient_descent(X, y, learning_rate=0.01, n_iterations=1000):\n",
        "    m = X.shape[0]\n",
        "    theta = np.random.randn(X.shape[1], 1)\n",
        "\n",
        "    for iteration in range(n_iterations):\n",
        "        gradients = (2/m) * X.T.dot(X.dot(theta) - y)\n",
        "        theta -= learning_rate * gradients\n",
        "\n",
        "    return theta"
      ],
      "metadata": {
        "id": "7pYlylSBDxwC"
      },
      "execution_count": 60,
      "outputs": []
    },
    {
      "cell_type": "code",
      "source": [
        "def mean_squared_error_manual(y_true, y_pred):\n",
        "    return np.mean((y_true - y_pred) ** 2)\n"
      ],
      "metadata": {
        "id": "GCt2FWeqDxow"
      },
      "execution_count": 61,
      "outputs": []
    },
    {
      "cell_type": "code",
      "source": [
        "theta_batch = batch_gradient_descent(X, y)"
      ],
      "metadata": {
        "id": "aDVASrOuDxj1"
      },
      "execution_count": 62,
      "outputs": []
    },
    {
      "cell_type": "code",
      "source": [
        "y_pred_batch = X.dot(theta_batch)"
      ],
      "metadata": {
        "id": "Nnxxga_vD4ZC"
      },
      "execution_count": 63,
      "outputs": []
    },
    {
      "cell_type": "code",
      "source": [
        "print(\"Batch MSE:\", mean_squared_error_manual(y, y_pred_batch))"
      ],
      "metadata": {
        "colab": {
          "base_uri": "https://localhost:8080/"
        },
        "id": "AIUcU4t0D4Vp",
        "outputId": "28b9c118-182c-49fd-a689-49b2b70665cd"
      },
      "execution_count": 64,
      "outputs": [
        {
          "output_type": "stream",
          "name": "stdout",
          "text": [
            "Batch MSE: 1165789884854.463\n"
          ]
        }
      ]
    },
    {
      "cell_type": "code",
      "source": [
        "def rmse_manual(y_true, y_pred):\n",
        "    return np.sqrt(np.mean((y_true - y_pred) ** 2))"
      ],
      "metadata": {
        "id": "G9BndeKxD4TU"
      },
      "execution_count": 65,
      "outputs": []
    },
    {
      "cell_type": "code",
      "source": [
        "print(\"Batch RMSE:\", rmse_manual(y, y_pred_batch))"
      ],
      "metadata": {
        "colab": {
          "base_uri": "https://localhost:8080/"
        },
        "id": "WKW992xsD4MR",
        "outputId": "15523f23-a19c-4775-ae47-974fb90aecc9"
      },
      "execution_count": 66,
      "outputs": [
        {
          "output_type": "stream",
          "name": "stdout",
          "text": [
            "Batch RMSE: 1079717.502337747\n"
          ]
        }
      ]
    },
    {
      "cell_type": "code",
      "source": [
        "def stochastic_gradient_descent(X, y, learning_rate=0.01, n_epochs=10):\n",
        "    m = X.shape[0]\n",
        "    theta = np.random.randn(X.shape[1], 1)\n",
        "\n",
        "    for epoch in range(n_epochs):\n",
        "        for i in range(m):\n",
        "            xi = X[i:i+1]  # shape: (1, n_features)\n",
        "            yi = y[i:i+1]  # shape: (1, 1)\n",
        "            gradients = 2 * xi.T.dot(xi.dot(theta) - yi)\n",
        "            theta -= learning_rate * gradients\n",
        "\n",
        "    return theta"
      ],
      "metadata": {
        "id": "56VpwpNxD4JL"
      },
      "execution_count": 67,
      "outputs": []
    },
    {
      "cell_type": "code",
      "source": [
        "theta_sgd = stochastic_gradient_descent(X, y)"
      ],
      "metadata": {
        "id": "SzMGDpZ3DxT8"
      },
      "execution_count": 68,
      "outputs": []
    },
    {
      "cell_type": "code",
      "source": [
        "y_pred_sgd = X.dot(theta_sgd)"
      ],
      "metadata": {
        "id": "MPlMFnAQEAdc"
      },
      "execution_count": 69,
      "outputs": []
    },
    {
      "cell_type": "code",
      "source": [
        "print(\"Stochastic Gradient Descent MSE:\", mean_squared_error_manual(y, y_pred_sgd))"
      ],
      "metadata": {
        "colab": {
          "base_uri": "https://localhost:8080/"
        },
        "id": "VJDEOm6LEAbW",
        "outputId": "11be7441-2924-4a34-f1ad-5af7f46ade8f"
      },
      "execution_count": 70,
      "outputs": [
        {
          "output_type": "stream",
          "name": "stdout",
          "text": [
            "Stochastic Gradient Descent MSE: 3564455792230.7793\n"
          ]
        }
      ]
    },
    {
      "cell_type": "code",
      "source": [],
      "metadata": {
        "id": "Jq1ysKiWREeN"
      },
      "execution_count": 70,
      "outputs": []
    },
    {
      "cell_type": "code",
      "metadata": {
        "colab": {
          "base_uri": "https://localhost:8080/",
          "height": 1000
        },
        "collapsed": true,
        "id": "9bb1dc59",
        "outputId": "b8b31067-7b8b-45c5-8cfe-13633353059d"
      },
      "source": [
        "# Normalize the target variable (price)\n",
        "scaler_y = StandardScaler()\n",
        "y = scaler_y.fit_transform(y)\n",
        "\n",
        "display(y)"
      ],
      "execution_count": 71,
      "outputs": [
        {
          "output_type": "display_data",
          "data": {
            "text/plain": [
              "array([[ 4.56636513e+00],\n",
              "       [ 4.00448405e+00],\n",
              "       [ 4.00448405e+00],\n",
              "       [ 3.98575468e+00],\n",
              "       [ 3.55497918e+00],\n",
              "       [ 3.25530927e+00],\n",
              "       [ 2.88072189e+00],\n",
              "       [ 2.88072189e+00],\n",
              "       [ 2.73088693e+00],\n",
              "       [ 2.69342819e+00],\n",
              "       [ 2.69342819e+00],\n",
              "       [ 2.62974834e+00],\n",
              "       [ 2.43121702e+00],\n",
              "       [ 2.39375829e+00],\n",
              "       [ 2.39375829e+00],\n",
              "       [ 2.31884081e+00],\n",
              "       [ 2.31884081e+00],\n",
              "       [ 2.24392333e+00],\n",
              "       [ 2.20646459e+00],\n",
              "       [ 2.18773522e+00],\n",
              "       [ 2.13154711e+00],\n",
              "       [ 2.09408838e+00],\n",
              "       [ 2.07535901e+00],\n",
              "       [ 2.07535901e+00],\n",
              "       [ 2.03790027e+00],\n",
              "       [ 2.01917090e+00],\n",
              "       [ 1.97796629e+00],\n",
              "       [ 1.94425342e+00],\n",
              "       [ 1.94425342e+00],\n",
              "       [ 1.94425342e+00],\n",
              "       [ 1.94425342e+00],\n",
              "       [ 1.94425342e+00],\n",
              "       [ 1.88806531e+00],\n",
              "       [ 1.83187721e+00],\n",
              "       [ 1.79441847e+00],\n",
              "       [ 1.77351649e+00],\n",
              "       [ 1.75321385e+00],\n",
              "       [ 1.71950099e+00],\n",
              "       [ 1.71013630e+00],\n",
              "       [ 1.68204225e+00],\n",
              "       [ 1.66331288e+00],\n",
              "       [ 1.64458351e+00],\n",
              "       [ 1.56966604e+00],\n",
              "       [ 1.56966604e+00],\n",
              "       [ 1.49474856e+00],\n",
              "       [ 1.49474856e+00],\n",
              "       [ 1.47601919e+00],\n",
              "       [ 1.45728982e+00],\n",
              "       [ 1.43856045e+00],\n",
              "       [ 1.41983108e+00],\n",
              "       [ 1.41983108e+00],\n",
              "       [ 1.41983108e+00],\n",
              "       [ 1.38237234e+00],\n",
              "       [ 1.38237234e+00],\n",
              "       [ 1.38237234e+00],\n",
              "       [ 1.38237234e+00],\n",
              "       [ 1.37862647e+00],\n",
              "       [ 1.32618423e+00],\n",
              "       [ 1.30745486e+00],\n",
              "       [ 1.30745486e+00],\n",
              "       [ 1.26999613e+00],\n",
              "       [ 1.23253739e+00],\n",
              "       [ 1.23253739e+00],\n",
              "       [ 1.21380802e+00],\n",
              "       [ 1.19507865e+00],\n",
              "       [ 1.15761991e+00],\n",
              "       [ 1.15761991e+00],\n",
              "       [ 1.13889054e+00],\n",
              "       [ 1.12016117e+00],\n",
              "       [ 1.08270243e+00],\n",
              "       [ 1.08270243e+00],\n",
              "       [ 1.06397306e+00],\n",
              "       [ 1.04524369e+00],\n",
              "       [ 1.02651432e+00],\n",
              "       [ 1.00778496e+00],\n",
              "       [ 1.00778496e+00],\n",
              "       [ 1.00778496e+00],\n",
              "       [ 1.00778496e+00],\n",
              "       [ 1.00778496e+00],\n",
              "       [ 1.00778496e+00],\n",
              "       [ 9.96547334e-01],\n",
              "       [ 9.89055586e-01],\n",
              "       [ 9.89055586e-01],\n",
              "       [ 9.70326217e-01],\n",
              "       [ 9.32867478e-01],\n",
              "       [ 9.32867478e-01],\n",
              "       [ 9.32867478e-01],\n",
              "       [ 9.14138109e-01],\n",
              "       [ 9.14138109e-01],\n",
              "       [ 8.95408740e-01],\n",
              "       [ 8.95408740e-01],\n",
              "       [ 8.84171118e-01],\n",
              "       [ 8.76679370e-01],\n",
              "       [ 8.20491262e-01],\n",
              "       [ 8.20491262e-01],\n",
              "       [ 8.20491262e-01],\n",
              "       [ 8.20491262e-01],\n",
              "       [ 8.20491262e-01],\n",
              "       [ 8.16745389e-01],\n",
              "       [ 8.01761893e-01],\n",
              "       [ 7.83032524e-01],\n",
              "       [ 7.83032524e-01],\n",
              "       [ 7.64303154e-01],\n",
              "       [ 7.64303154e-01],\n",
              "       [ 7.64303154e-01],\n",
              "       [ 7.45573785e-01],\n",
              "       [ 7.45573785e-01],\n",
              "       [ 7.26844416e-01],\n",
              "       [ 7.17479731e-01],\n",
              "       [ 7.08115046e-01],\n",
              "       [ 7.08115046e-01],\n",
              "       [ 7.08115046e-01],\n",
              "       [ 7.04369173e-01],\n",
              "       [ 7.04369173e-01],\n",
              "       [ 6.70656308e-01],\n",
              "       [ 6.70656308e-01],\n",
              "       [ 6.70656308e-01],\n",
              "       [ 6.33197569e-01],\n",
              "       [ 6.33197569e-01],\n",
              "       [ 6.33197569e-01],\n",
              "       [ 6.33197569e-01],\n",
              "       [ 6.33197569e-01],\n",
              "       [ 6.33197569e-01],\n",
              "       [ 6.33197569e-01],\n",
              "       [ 6.33197569e-01],\n",
              "       [ 6.29451695e-01],\n",
              "       [ 5.95738831e-01],\n",
              "       [ 5.95738831e-01],\n",
              "       [ 5.91992957e-01],\n",
              "       [ 5.91992957e-01],\n",
              "       [ 5.88247083e-01],\n",
              "       [ 5.58280092e-01],\n",
              "       [ 5.58280092e-01],\n",
              "       [ 5.58280092e-01],\n",
              "       [ 5.54534218e-01],\n",
              "       [ 5.39550723e-01],\n",
              "       [ 5.20821353e-01],\n",
              "       [ 5.20821353e-01],\n",
              "       [ 5.20821353e-01],\n",
              "       [ 5.20821353e-01],\n",
              "       [ 5.20821353e-01],\n",
              "       [ 4.73997930e-01],\n",
              "       [ 4.45903876e-01],\n",
              "       [ 4.45903876e-01],\n",
              "       [ 4.45903876e-01],\n",
              "       [ 4.45903876e-01],\n",
              "       [ 4.45903876e-01],\n",
              "       [ 4.45903876e-01],\n",
              "       [ 4.45903876e-01],\n",
              "       [ 4.45903876e-01],\n",
              "       [ 4.45903876e-01],\n",
              "       [ 4.27174507e-01],\n",
              "       [ 4.27174507e-01],\n",
              "       [ 4.08445137e-01],\n",
              "       [ 4.08445137e-01],\n",
              "       [ 4.08445137e-01],\n",
              "       [ 4.04699264e-01],\n",
              "       [ 3.89715768e-01],\n",
              "       [ 3.89715768e-01],\n",
              "       [ 3.70986399e-01],\n",
              "       [ 3.70986399e-01],\n",
              "       [ 3.70986399e-01],\n",
              "       [ 3.70986399e-01],\n",
              "       [ 3.52257029e-01],\n",
              "       [ 3.33527660e-01],\n",
              "       [ 3.29781786e-01],\n",
              "       [ 2.96068921e-01],\n",
              "       [ 2.77339552e-01],\n",
              "       [ 2.58610183e-01],\n",
              "       [ 2.58610183e-01],\n",
              "       [ 2.58610183e-01],\n",
              "       [ 2.58610183e-01],\n",
              "       [ 2.58610183e-01],\n",
              "       [ 2.58610183e-01],\n",
              "       [ 2.58610183e-01],\n",
              "       [ 2.58610183e-01],\n",
              "       [ 2.58610183e-01],\n",
              "       [ 2.54864309e-01],\n",
              "       [ 2.47372561e-01],\n",
              "       [ 2.39880814e-01],\n",
              "       [ 2.39880814e-01],\n",
              "       [ 2.39880814e-01],\n",
              "       [ 2.02422075e-01],\n",
              "       [ 2.02422075e-01],\n",
              "       [ 1.83692706e-01],\n",
              "       [ 1.83692706e-01],\n",
              "       [ 1.83692706e-01],\n",
              "       [ 1.83692706e-01],\n",
              "       [ 1.64963336e-01],\n",
              "       [ 1.46233967e-01],\n",
              "       [ 1.46233967e-01],\n",
              "       [ 1.46233967e-01],\n",
              "       [ 1.46233967e-01],\n",
              "       [ 1.42488093e-01],\n",
              "       [ 1.27504598e-01],\n",
              "       [ 1.08775228e-01],\n",
              "       [ 1.08775228e-01],\n",
              "       [ 1.01283481e-01],\n",
              "       [ 9.00458590e-02],\n",
              "       [ 7.50623635e-02],\n",
              "       [ 7.13164897e-02],\n",
              "       [ 7.13164897e-02],\n",
              "       [ 7.13164897e-02],\n",
              "       [ 7.13164897e-02],\n",
              "       [ 7.13164897e-02],\n",
              "       [ 7.13164897e-02],\n",
              "       [ 7.13164897e-02],\n",
              "       [ 7.13164897e-02],\n",
              "       [ 7.13164897e-02],\n",
              "       [ 7.13164897e-02],\n",
              "       [ 7.13164897e-02],\n",
              "       [ 7.13164897e-02],\n",
              "       [ 6.75706158e-02],\n",
              "       [ 6.75706158e-02],\n",
              "       [ 5.25871204e-02],\n",
              "       [ 3.38577510e-02],\n",
              "       [ 3.38577510e-02],\n",
              "       [ 3.38577510e-02],\n",
              "       [ 3.38577510e-02],\n",
              "       [ 1.51283817e-02],\n",
              "       [ 1.51283817e-02],\n",
              "       [ 1.44886277e-04],\n",
              "       [-3.60098759e-03],\n",
              "       [-3.60098759e-03],\n",
              "       [-3.60098759e-03],\n",
              "       [-7.34686145e-03],\n",
              "       [-4.10597262e-02],\n",
              "       [-4.10597262e-02],\n",
              "       [-4.10597262e-02],\n",
              "       [-4.10597262e-02],\n",
              "       [-4.10597262e-02],\n",
              "       [-4.10597262e-02],\n",
              "       [-5.97890955e-02],\n",
              "       [-7.85184649e-02],\n",
              "       [-7.85184649e-02],\n",
              "       [-7.85184649e-02],\n",
              "       [-7.85184649e-02],\n",
              "       [-7.85184649e-02],\n",
              "       [-8.22643387e-02],\n",
              "       [-9.72478342e-02],\n",
              "       [-9.72478342e-02],\n",
              "       [-1.15977203e-01],\n",
              "       [-1.15977203e-01],\n",
              "       [-1.15977203e-01],\n",
              "       [-1.15977203e-01],\n",
              "       [-1.15977203e-01],\n",
              "       [-1.15977203e-01],\n",
              "       [-1.15977203e-01],\n",
              "       [-1.19723077e-01],\n",
              "       [-1.19723077e-01],\n",
              "       [-1.34706573e-01],\n",
              "       [-1.34706573e-01],\n",
              "       [-1.34706573e-01],\n",
              "       [-1.34706573e-01],\n",
              "       [-1.53435942e-01],\n",
              "       [-1.53435942e-01],\n",
              "       [-1.53435942e-01],\n",
              "       [-1.53435942e-01],\n",
              "       [-1.53435942e-01],\n",
              "       [-1.57181816e-01],\n",
              "       [-1.57181816e-01],\n",
              "       [-1.57181816e-01],\n",
              "       [-1.72165311e-01],\n",
              "       [-1.90894681e-01],\n",
              "       [-1.90894681e-01],\n",
              "       [-1.94640555e-01],\n",
              "       [-1.94640555e-01],\n",
              "       [-1.94640555e-01],\n",
              "       [-2.05878176e-01],\n",
              "       [-2.09624050e-01],\n",
              "       [-2.28353419e-01],\n",
              "       [-2.28353419e-01],\n",
              "       [-2.28353419e-01],\n",
              "       [-2.28353419e-01],\n",
              "       [-2.28353419e-01],\n",
              "       [-2.39591041e-01],\n",
              "       [-2.47082789e-01],\n",
              "       [-2.47082789e-01],\n",
              "       [-2.62066284e-01],\n",
              "       [-2.65812158e-01],\n",
              "       [-2.65812158e-01],\n",
              "       [-2.65812158e-01],\n",
              "       [-2.65812158e-01],\n",
              "       [-2.65812158e-01],\n",
              "       [-2.65812158e-01],\n",
              "       [-2.84541527e-01],\n",
              "       [-2.84541527e-01],\n",
              "       [-3.03270897e-01],\n",
              "       [-3.03270897e-01],\n",
              "       [-3.03270897e-01],\n",
              "       [-3.03270897e-01],\n",
              "       [-3.03270897e-01],\n",
              "       [-3.03270897e-01],\n",
              "       [-3.03270897e-01],\n",
              "       [-3.03270897e-01],\n",
              "       [-3.03270897e-01],\n",
              "       [-3.03270897e-01],\n",
              "       [-3.03270897e-01],\n",
              "       [-3.03270897e-01],\n",
              "       [-3.03270897e-01],\n",
              "       [-3.03270897e-01],\n",
              "       [-3.03270897e-01],\n",
              "       [-3.03270897e-01],\n",
              "       [-3.03270897e-01],\n",
              "       [-3.07016771e-01],\n",
              "       [-3.07016771e-01],\n",
              "       [-3.22000266e-01],\n",
              "       [-3.22000266e-01],\n",
              "       [-3.22000266e-01],\n",
              "       [-3.40729635e-01],\n",
              "       [-3.40729635e-01],\n",
              "       [-3.44475509e-01],\n",
              "       [-3.57586068e-01],\n",
              "       [-3.59459005e-01],\n",
              "       [-3.59459005e-01],\n",
              "       [-3.59459005e-01],\n",
              "       [-3.78188374e-01],\n",
              "       [-3.78188374e-01],\n",
              "       [-3.78188374e-01],\n",
              "       [-3.78188374e-01],\n",
              "       [-3.78188374e-01],\n",
              "       [-3.96917743e-01],\n",
              "       [-3.96917743e-01],\n",
              "       [-3.96917743e-01],\n",
              "       [-4.06282428e-01],\n",
              "       [-4.06282428e-01],\n",
              "       [-4.15647113e-01],\n",
              "       [-4.15647113e-01],\n",
              "       [-4.15647113e-01],\n",
              "       [-4.15647113e-01],\n",
              "       [-4.15647113e-01],\n",
              "       [-4.53105851e-01],\n",
              "       [-4.53105851e-01],\n",
              "       [-4.53105851e-01],\n",
              "       [-4.53105851e-01],\n",
              "       [-4.53105851e-01],\n",
              "       [-4.53105851e-01],\n",
              "       [-4.53105851e-01],\n",
              "       [-4.71835221e-01],\n",
              "       [-4.71835221e-01],\n",
              "       [-4.90564590e-01],\n",
              "       [-4.90564590e-01],\n",
              "       [-4.90564590e-01],\n",
              "       [-4.90564590e-01],\n",
              "       [-4.90564590e-01],\n",
              "       [-4.90564590e-01],\n",
              "       [-4.90564590e-01],\n",
              "       [-4.98056338e-01],\n",
              "       [-5.09293959e-01],\n",
              "       [-5.28023328e-01],\n",
              "       [-5.28023328e-01],\n",
              "       [-5.28023328e-01],\n",
              "       [-5.28023328e-01],\n",
              "       [-5.28023328e-01],\n",
              "       [-5.28023328e-01],\n",
              "       [-5.31769202e-01],\n",
              "       [-5.31769202e-01],\n",
              "       [-5.31769202e-01],\n",
              "       [-5.46752698e-01],\n",
              "       [-5.65482067e-01],\n",
              "       [-5.65482067e-01],\n",
              "       [-5.65482067e-01],\n",
              "       [-5.65482067e-01],\n",
              "       [-5.65482067e-01],\n",
              "       [-5.69227941e-01],\n",
              "       [-5.69227941e-01],\n",
              "       [-5.84211436e-01],\n",
              "       [-5.84211436e-01],\n",
              "       [-5.84211436e-01],\n",
              "       [-5.84211436e-01],\n",
              "       [-6.02940806e-01],\n",
              "       [-6.02940806e-01],\n",
              "       [-6.02940806e-01],\n",
              "       [-6.02940806e-01],\n",
              "       [-6.02940806e-01],\n",
              "       [-6.02940806e-01],\n",
              "       [-6.02940806e-01],\n",
              "       [-6.02940806e-01],\n",
              "       [-6.02940806e-01],\n",
              "       [-6.06686680e-01],\n",
              "       [-6.21670175e-01],\n",
              "       [-6.21670175e-01],\n",
              "       [-6.40399544e-01],\n",
              "       [-6.40399544e-01],\n",
              "       [-6.40399544e-01],\n",
              "       [-6.40399544e-01],\n",
              "       [-6.59128914e-01],\n",
              "       [-6.77858283e-01],\n",
              "       [-6.77858283e-01],\n",
              "       [-6.77858283e-01],\n",
              "       [-6.77858283e-01],\n",
              "       [-6.77858283e-01],\n",
              "       [-6.77858283e-01],\n",
              "       [-6.77858283e-01],\n",
              "       [-6.77858283e-01],\n",
              "       [-6.77858283e-01],\n",
              "       [-6.77858283e-01],\n",
              "       [-6.77858283e-01],\n",
              "       [-6.77858283e-01],\n",
              "       [-6.77858283e-01],\n",
              "       [-6.77858283e-01],\n",
              "       [-6.77858283e-01],\n",
              "       [-6.77858283e-01],\n",
              "       [-6.77858283e-01],\n",
              "       [-6.81604157e-01],\n",
              "       [-6.96587652e-01],\n",
              "       [-6.96587652e-01],\n",
              "       [-6.96587652e-01],\n",
              "       [-7.15317022e-01],\n",
              "       [-7.15317022e-01],\n",
              "       [-7.15317022e-01],\n",
              "       [-7.15317022e-01],\n",
              "       [-7.15317022e-01],\n",
              "       [-7.15317022e-01],\n",
              "       [-7.19062896e-01],\n",
              "       [-7.34046391e-01],\n",
              "       [-7.34046391e-01],\n",
              "       [-7.34046391e-01],\n",
              "       [-7.52775760e-01],\n",
              "       [-7.52775760e-01],\n",
              "       [-7.52775760e-01],\n",
              "       [-7.52775760e-01],\n",
              "       [-7.52775760e-01],\n",
              "       [-7.52775760e-01],\n",
              "       [-7.52775760e-01],\n",
              "       [-7.52775760e-01],\n",
              "       [-7.56521634e-01],\n",
              "       [-7.67759256e-01],\n",
              "       [-7.71505130e-01],\n",
              "       [-7.71505130e-01],\n",
              "       [-7.90234499e-01],\n",
              "       [-7.90234499e-01],\n",
              "       [-7.90234499e-01],\n",
              "       [-7.90234499e-01],\n",
              "       [-7.90234499e-01],\n",
              "       [-7.90234499e-01],\n",
              "       [-7.90234499e-01],\n",
              "       [-7.90234499e-01],\n",
              "       [-8.08963868e-01],\n",
              "       [-8.08963868e-01],\n",
              "       [-8.20201490e-01],\n",
              "       [-8.27693238e-01],\n",
              "       [-8.27693238e-01],\n",
              "       [-8.27693238e-01],\n",
              "       [-8.27693238e-01],\n",
              "       [-8.65151976e-01],\n",
              "       [-8.65151976e-01],\n",
              "       [-8.65151976e-01],\n",
              "       [-8.65151976e-01],\n",
              "       [-8.65151976e-01],\n",
              "       [-8.65151976e-01],\n",
              "       [-8.65151976e-01],\n",
              "       [-8.65151976e-01],\n",
              "       [-8.65151976e-01],\n",
              "       [-8.68897850e-01],\n",
              "       [-8.76389598e-01],\n",
              "       [-8.81821115e-01],\n",
              "       [-8.83881346e-01],\n",
              "       [-8.83881346e-01],\n",
              "       [-8.83881346e-01],\n",
              "       [-8.98864841e-01],\n",
              "       [-9.02610715e-01],\n",
              "       [-9.02610715e-01],\n",
              "       [-9.02610715e-01],\n",
              "       [-9.02610715e-01],\n",
              "       [-9.21340084e-01],\n",
              "       [-9.40069453e-01],\n",
              "       [-9.40069453e-01],\n",
              "       [-9.40069453e-01],\n",
              "       [-9.40069453e-01],\n",
              "       [-9.40069453e-01],\n",
              "       [-9.40069453e-01],\n",
              "       [-9.40069453e-01],\n",
              "       [-9.43815327e-01],\n",
              "       [-9.58798823e-01],\n",
              "       [-9.66290571e-01],\n",
              "       [-9.77528192e-01],\n",
              "       [-9.77528192e-01],\n",
              "       [-9.77528192e-01],\n",
              "       [-9.77528192e-01],\n",
              "       [-9.77528192e-01],\n",
              "       [-9.77528192e-01],\n",
              "       [-9.77528192e-01],\n",
              "       [-9.77528192e-01],\n",
              "       [-1.01498693e+00],\n",
              "       [-1.01498693e+00],\n",
              "       [-1.01498693e+00],\n",
              "       [-1.01498693e+00],\n",
              "       [-1.02435162e+00],\n",
              "       [-1.03371630e+00],\n",
              "       [-1.03371630e+00],\n",
              "       [-1.03371630e+00],\n",
              "       [-1.05244567e+00],\n",
              "       [-1.05244567e+00],\n",
              "       [-1.08990441e+00],\n",
              "       [-1.08990441e+00],\n",
              "       [-1.10863378e+00],\n",
              "       [-1.12736315e+00],\n",
              "       [-1.12736315e+00],\n",
              "       [-1.12736315e+00],\n",
              "       [-1.12736315e+00],\n",
              "       [-1.12736315e+00],\n",
              "       [-1.12736315e+00],\n",
              "       [-1.12736315e+00],\n",
              "       [-1.13110902e+00],\n",
              "       [-1.13110902e+00],\n",
              "       [-1.15733014e+00],\n",
              "       [-1.16482189e+00],\n",
              "       [-1.16482189e+00],\n",
              "       [-1.16482189e+00],\n",
              "       [-1.20228062e+00],\n",
              "       [-1.20228062e+00],\n",
              "       [-1.20228062e+00],\n",
              "       [-1.22100999e+00],\n",
              "       [-1.22100999e+00],\n",
              "       [-1.23973936e+00],\n",
              "       [-1.23973936e+00],\n",
              "       [-1.23973936e+00],\n",
              "       [-1.23973936e+00],\n",
              "       [-1.23973936e+00],\n",
              "       [-1.23973936e+00],\n",
              "       [-1.26221461e+00],\n",
              "       [-1.27719810e+00],\n",
              "       [-1.27719810e+00],\n",
              "       [-1.27719810e+00],\n",
              "       [-1.29592747e+00],\n",
              "       [-1.31465684e+00],\n",
              "       [-1.33338621e+00],\n",
              "       [-1.33338621e+00],\n",
              "       [-1.33338621e+00],\n",
              "       [-1.35211558e+00],\n",
              "       [-1.35586145e+00],\n",
              "       [-1.40830369e+00],\n",
              "       [-1.42703306e+00],\n",
              "       [-1.42703306e+00],\n",
              "       [-1.42703306e+00],\n",
              "       [-1.50195053e+00],\n",
              "       [-1.53940927e+00],\n",
              "       [-1.53940927e+00],\n",
              "       [-1.55813864e+00],\n",
              "       [-1.57686801e+00],\n",
              "       [-1.60514936e+00],\n",
              "       [-1.61432675e+00],\n",
              "       [-1.61432675e+00],\n",
              "       [-1.61432675e+00]])"
            ]
          },
          "metadata": {}
        }
      ]
    },
    {
      "cell_type": "markdown",
      "metadata": {
        "id": "e2ed170d"
      },
      "source": [
        "## Retrain and evaluate models with normalized target"
      ]
    },
    {
      "cell_type": "markdown",
      "metadata": {
        "id": "3509b726"
      },
      "source": [
        "### Subtask:\n",
        "Retrain Batch Gradient Descent and Stochastic Gradient Descent models using the normalized 'price' and evaluate their performance."
      ]
    },
    {
      "cell_type": "markdown",
      "metadata": {
        "id": "b1ca3acc"
      },
      "source": [
        "**Reasoning**:\n",
        "Retrain the Batch Gradient Descent model using the normalized target variable `y` and evaluate its performance using MSE and RMSE to see the effect of normalization."
      ]
    },
    {
      "cell_type": "code",
      "metadata": {
        "colab": {
          "base_uri": "https://localhost:8080/"
        },
        "id": "cc65d3db",
        "outputId": "aec4d4a8-0436-4e0f-909b-c2aebbcbadb6"
      },
      "source": [
        "# Retrain Batch Gradient Descent with normalized y\n",
        "theta_batch_normalized = batch_gradient_descent(X, y)\n",
        "y_pred_batch_normalized = X.dot(theta_batch_normalized)\n",
        "\n",
        "print(\"Batch MSE (Normalized y):\", mean_squared_error_manual(y, y_pred_batch_normalized))\n",
        "print(\"Batch RMSE (Normalized y):\", rmse_manual(y, y_pred_batch_normalized))"
      ],
      "execution_count": 72,
      "outputs": [
        {
          "output_type": "stream",
          "name": "stdout",
          "text": [
            "Batch MSE (Normalized y): 0.33383394984098147\n",
            "Batch RMSE (Normalized y): 0.5777836531444807\n"
          ]
        }
      ]
    },
    {
      "cell_type": "code",
      "metadata": {
        "colab": {
          "base_uri": "https://localhost:8080/"
        },
        "id": "414eb997",
        "outputId": "0467bd62-e93c-4979-efb2-49e9320f1153"
      },
      "source": [
        "# Retrain Stochastic Gradient Descent with normalized y\n",
        "theta_sgd_normalized = stochastic_gradient_descent(X, y)\n",
        "y_pred_sgd_normalized = X.dot(theta_sgd_normalized)\n",
        "\n",
        "print(\"Stochastic Gradient Descent MSE (Normalized y):\", mean_squared_error_manual(y, y_pred_sgd_normalized))\n",
        "print(\"Stochastic Gradient Descent RMSE (Normalized y):\", rmse_manual(y, y_pred_sgd_normalized))"
      ],
      "execution_count": 73,
      "outputs": [
        {
          "output_type": "stream",
          "name": "stdout",
          "text": [
            "Stochastic Gradient Descent MSE (Normalized y): 1.0207125414120461\n",
            "Stochastic Gradient Descent RMSE (Normalized y): 1.0103031928149322\n"
          ]
        }
      ]
    }
  ]
}